{
 "cells": [
  {
   "cell_type": "code",
   "execution_count": 1,
   "id": "dbc762d1",
   "metadata": {},
   "outputs": [
    {
     "name": "stdout",
     "output_type": "stream",
     "text": [
      "Hello, World!\n"
     ]
    }
   ],
   "source": [
    "#Here is a sample line of code that can be executed in Python?\n",
    "# print(\"Hello, World!\")\n",
    "my_str=\"Hello, World!\"\n",
    "print(my_str)"
   ]
  },
  {
   "cell_type": "code",
   "execution_count": 2,
   "id": "e02ed3ba",
   "metadata": {},
   "outputs": [
    {
     "name": "stdout",
     "output_type": "stream",
     "text": [
      "15\n",
      "Weird\n"
     ]
    }
   ],
   "source": [
    "# Given an integer,n , perform the following conditional actions?\n",
    "# If  is odd, print Weird?\n",
    "# If  is even and in the inclusive range of 2 to 5 , print Not Weird?\n",
    "# If  is even and in the inclusive range of 6  to 20 , print Weird?\n",
    "# If  is even and greater than 20, print Not Weird?\n",
    "#!/bin/python3\n",
    "\n",
    "import math\n",
    "import os\n",
    "import random\n",
    "import re\n",
    "import sys\n",
    "\n",
    "\n",
    "if __name__ == '__main__':\n",
    "    n = int(input().strip())\n",
    "if n%2!=0:\n",
    "    print('Weird')\n",
    "elif  n%2==0 and n in  range(2,5):\n",
    "    print('Not Weird')\n",
    "elif n%2==0 and n in range(6,21):\n",
    "    print('Weird')\n",
    "    \n",
    "elif n%2==0 and n>20:\n",
    "    print('Not Weird')"
   ]
  },
  {
   "cell_type": "code",
   "execution_count": 3,
   "id": "83b07427",
   "metadata": {},
   "outputs": [
    {
     "name": "stdout",
     "output_type": "stream",
     "text": [
      "23\n",
      "25\n",
      "48\n",
      "-2\n",
      "575\n"
     ]
    }
   ],
   "source": [
    "#The provided code stub reads two integers from STDIN, a and b. Add code to print three lines where?\n",
    "#The first line contains the sum of the two numbers.?\n",
    "#The second line contains the difference of the two numbers (first - second).?\n",
    "#The third line contains the product of the two numbers?\n",
    "\n",
    "if __name__ == '__main__':\n",
    "    a = int(input())\n",
    "    b = int(input())\n",
    "    print(a+b)\n",
    "    print(a-b)\n",
    "    print(a*b)\n"
   ]
  },
  {
   "cell_type": "code",
   "execution_count": 4,
   "id": "92dd4fbd",
   "metadata": {},
   "outputs": [
    {
     "name": "stdout",
     "output_type": "stream",
     "text": [
      "24\n",
      "14\n",
      "1\n",
      "1.7142857142857142\n"
     ]
    }
   ],
   "source": [
    "#The provided code stub reads two integers, a and b, from STDIN.\n",
    "#Add logic to print two lines. The first line should contain the result of integer division, a // b. The second line should contain the result of float division, a / b.\n",
    "#No rounding or formatting is necessary\n",
    "\n",
    "if __name__ == '__main__':\n",
    "    a = int(input())\n",
    "    b = int(input())\n",
    "    print(a//b)\n",
    "    print(a/b)\n"
   ]
  },
  {
   "cell_type": "code",
   "execution_count": 8,
   "id": "c8758243",
   "metadata": {},
   "outputs": [
    {
     "name": "stdout",
     "output_type": "stream",
     "text": [
      "5\n",
      "0\n",
      "1\n",
      "4\n",
      "9\n",
      "16\n"
     ]
    }
   ],
   "source": [
    "# The provided code stub reads and integer,n , from STDIN. For all non-negative integers i<n, print i.\n",
    "\n",
    "if __name__ == '__main__':\n",
    "    n = int(input())\n",
    "    for i in range(0,n):\n",
    "        if i<n:\n",
    "            print(i*i)"
   ]
  },
  {
   "cell_type": "code",
   "execution_count": 11,
   "id": "7f6c345f",
   "metadata": {},
   "outputs": [
    {
     "name": "stdout",
     "output_type": "stream",
     "text": [
      "1991\n"
     ]
    }
   ],
   "source": [
    "#An extra day is added to the calendar almost every four years as February 29, and the day is called a leap day. It corrects the calendar for the fact that our planet takes approximately 365.25 days to orbit the sun. A leap year contains a leap day.\n",
    "#In the Gregorian calendar, three conditions are used to identify leap years:\n",
    "#The year can be evenly divided by 4, is a leap year, unless:\n",
    "#The year can be evenly divided by 100, it is NOT a leap year, unless:\n",
    "#The year is also evenly divisible by 400. Then it is a leap year.\n",
    "#This means that in the Gregorian calendar, the years 2000 and 2400 are leap years, while 1800, 1900, 2100, 2200, 2300 and 2500 are NOT leap years. Source\n",
    "#Task\n",
    "#Given a year, determine whether it is a leap year. If it is a leap year, return the Boolean True, otherwise return False.\n",
    "#Note that the code stub provided reads from STDIN and passes arguments to the is_leap function. It is only necessary to complete the is_leap function.\n",
    "\n",
    "def is_leap(year):\n",
    "    leap = False\n",
    "    if year%400==0:\n",
    "        return True\n",
    "    if year%100==0:\n",
    "        return False\n",
    "    if year%4==0:\n",
    "        return True\n",
    "    \n",
    "    # Write your logic here\n",
    "    \n",
    "    return leap\n",
    "\n",
    "\n",
    "year = int(input())"
   ]
  },
  {
   "cell_type": "code",
   "execution_count": 7,
   "id": "d22a998b",
   "metadata": {},
   "outputs": [
    {
     "name": "stdout",
     "output_type": "stream",
     "text": [
      "12\n",
      "123456789101112"
     ]
    }
   ],
   "source": [
    "#The included code stub will read an integer, , from STDIN.\n",
    "#Without using any string methods, try to print the following:123....n\n",
    "#Note that \"...\" represents the consecutive values in between\n",
    "\n",
    "if __name__ == '__main__':\n",
    "    n = int(input())\n",
    "    for i in range(1,n+1):\n",
    "        print(str(i),end='')\n"
   ]
  }
 ],
 "metadata": {
  "kernelspec": {
   "display_name": "Python 3",
   "language": "python",
   "name": "python3"
  },
  "language_info": {
   "codemirror_mode": {
    "name": "ipython",
    "version": 3
   },
   "file_extension": ".py",
   "mimetype": "text/x-python",
   "name": "python",
   "nbconvert_exporter": "python",
   "pygments_lexer": "ipython3",
   "version": "3.8.8"
  }
 },
 "nbformat": 4,
 "nbformat_minor": 5
}
